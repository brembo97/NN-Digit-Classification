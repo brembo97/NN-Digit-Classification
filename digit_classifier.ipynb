{
 "cells": [
  {
   "cell_type": "markdown",
   "metadata": {
    "collapsed": true,
    "pycharm": {
     "name": "#%% md\n"
    }
   },
   "source": [
    "# Handwritten Digit Classifier\n",
    "\n",
    "In this project, we'll explore the effectiveness of deep,\n",
    "feedforward neural networks at classifying images. We'll be using the\n",
    "[Optical Recognition of Handwritten Digits Data Set](http://archive.ics.uci.edu/ml/datasets/Optical+Recognition+of+Handwritten+Digits)\n",
    "of UCI which contains handwritten images of digits of 8x8 pixels.\n",
    "\n",
    "The objective of this project is to explore the capabilities of neural networks\n",
    "and determine what makes them the best model choice for image classification."
   ]
  },
  {
   "cell_type": "code",
   "execution_count": 1,
   "outputs": [
    {
     "data": {
      "text/plain": "    0    1    2     3     4     5    6    7    8    9   ...   54   55   56  \\\n0  0.0  0.0  5.0  13.0   9.0   1.0  0.0  0.0  0.0  0.0  ...  0.0  0.0  0.0   \n1  0.0  0.0  0.0  12.0  13.0   5.0  0.0  0.0  0.0  0.0  ...  0.0  0.0  0.0   \n2  0.0  0.0  0.0   4.0  15.0  12.0  0.0  0.0  0.0  0.0  ...  5.0  0.0  0.0   \n3  0.0  0.0  7.0  15.0  13.0   1.0  0.0  0.0  0.0  8.0  ...  9.0  0.0  0.0   \n4  0.0  0.0  0.0   1.0  11.0   0.0  0.0  0.0  0.0  0.0  ...  0.0  0.0  0.0   \n\n    57   58    59    60    61   62   63  \n0  0.0  6.0  13.0  10.0   0.0  0.0  0.0  \n1  0.0  0.0  11.0  16.0  10.0  0.0  0.0  \n2  0.0  0.0   3.0  11.0  16.0  9.0  0.0  \n3  0.0  7.0  13.0  13.0   9.0  0.0  0.0  \n4  0.0  0.0   2.0  16.0   4.0  0.0  0.0  \n\n[5 rows x 64 columns]",
      "text/html": "<div>\n<style scoped>\n    .dataframe tbody tr th:only-of-type {\n        vertical-align: middle;\n    }\n\n    .dataframe tbody tr th {\n        vertical-align: top;\n    }\n\n    .dataframe thead th {\n        text-align: right;\n    }\n</style>\n<table border=\"1\" class=\"dataframe\">\n  <thead>\n    <tr style=\"text-align: right;\">\n      <th></th>\n      <th>0</th>\n      <th>1</th>\n      <th>2</th>\n      <th>3</th>\n      <th>4</th>\n      <th>5</th>\n      <th>6</th>\n      <th>7</th>\n      <th>8</th>\n      <th>9</th>\n      <th>...</th>\n      <th>54</th>\n      <th>55</th>\n      <th>56</th>\n      <th>57</th>\n      <th>58</th>\n      <th>59</th>\n      <th>60</th>\n      <th>61</th>\n      <th>62</th>\n      <th>63</th>\n    </tr>\n  </thead>\n  <tbody>\n    <tr>\n      <th>0</th>\n      <td>0.0</td>\n      <td>0.0</td>\n      <td>5.0</td>\n      <td>13.0</td>\n      <td>9.0</td>\n      <td>1.0</td>\n      <td>0.0</td>\n      <td>0.0</td>\n      <td>0.0</td>\n      <td>0.0</td>\n      <td>...</td>\n      <td>0.0</td>\n      <td>0.0</td>\n      <td>0.0</td>\n      <td>0.0</td>\n      <td>6.0</td>\n      <td>13.0</td>\n      <td>10.0</td>\n      <td>0.0</td>\n      <td>0.0</td>\n      <td>0.0</td>\n    </tr>\n    <tr>\n      <th>1</th>\n      <td>0.0</td>\n      <td>0.0</td>\n      <td>0.0</td>\n      <td>12.0</td>\n      <td>13.0</td>\n      <td>5.0</td>\n      <td>0.0</td>\n      <td>0.0</td>\n      <td>0.0</td>\n      <td>0.0</td>\n      <td>...</td>\n      <td>0.0</td>\n      <td>0.0</td>\n      <td>0.0</td>\n      <td>0.0</td>\n      <td>0.0</td>\n      <td>11.0</td>\n      <td>16.0</td>\n      <td>10.0</td>\n      <td>0.0</td>\n      <td>0.0</td>\n    </tr>\n    <tr>\n      <th>2</th>\n      <td>0.0</td>\n      <td>0.0</td>\n      <td>0.0</td>\n      <td>4.0</td>\n      <td>15.0</td>\n      <td>12.0</td>\n      <td>0.0</td>\n      <td>0.0</td>\n      <td>0.0</td>\n      <td>0.0</td>\n      <td>...</td>\n      <td>5.0</td>\n      <td>0.0</td>\n      <td>0.0</td>\n      <td>0.0</td>\n      <td>0.0</td>\n      <td>3.0</td>\n      <td>11.0</td>\n      <td>16.0</td>\n      <td>9.0</td>\n      <td>0.0</td>\n    </tr>\n    <tr>\n      <th>3</th>\n      <td>0.0</td>\n      <td>0.0</td>\n      <td>7.0</td>\n      <td>15.0</td>\n      <td>13.0</td>\n      <td>1.0</td>\n      <td>0.0</td>\n      <td>0.0</td>\n      <td>0.0</td>\n      <td>8.0</td>\n      <td>...</td>\n      <td>9.0</td>\n      <td>0.0</td>\n      <td>0.0</td>\n      <td>0.0</td>\n      <td>7.0</td>\n      <td>13.0</td>\n      <td>13.0</td>\n      <td>9.0</td>\n      <td>0.0</td>\n      <td>0.0</td>\n    </tr>\n    <tr>\n      <th>4</th>\n      <td>0.0</td>\n      <td>0.0</td>\n      <td>0.0</td>\n      <td>1.0</td>\n      <td>11.0</td>\n      <td>0.0</td>\n      <td>0.0</td>\n      <td>0.0</td>\n      <td>0.0</td>\n      <td>0.0</td>\n      <td>...</td>\n      <td>0.0</td>\n      <td>0.0</td>\n      <td>0.0</td>\n      <td>0.0</td>\n      <td>0.0</td>\n      <td>2.0</td>\n      <td>16.0</td>\n      <td>4.0</td>\n      <td>0.0</td>\n      <td>0.0</td>\n    </tr>\n  </tbody>\n</table>\n<p>5 rows × 64 columns</p>\n</div>"
     },
     "execution_count": 1,
     "metadata": {},
     "output_type": "execute_result"
    }
   ],
   "source": [
    "import numpy as np\n",
    "import pandas as pd\n",
    "from sklearn.datasets import load_digits\n",
    "import matplotlib.pyplot as plt\n",
    "%matplotlib inline\n",
    "\n",
    "digits = load_digits()\n",
    "digits_df = pd.DataFrame(digits['data'])\n",
    "digits_df.head()"
   ],
   "metadata": {
    "collapsed": false,
    "pycharm": {
     "name": "#%%\n"
    }
   }
  },
  {
   "cell_type": "markdown",
   "source": [
    "## Visualize Images"
   ],
   "metadata": {
    "collapsed": false,
    "pycharm": {
     "name": "#%% md\n"
    }
   }
  },
  {
   "cell_type": "code",
   "execution_count": 12,
   "outputs": [],
   "source": [
    "def reshape(pixels):\n",
    "    image = pixels.values.reshape(8,8)\n",
    "    return image"
   ],
   "metadata": {
    "collapsed": false,
    "pycharm": {
     "name": "#%%\n"
    }
   }
  },
  {
   "cell_type": "code",
   "execution_count": 25,
   "outputs": [
    {
     "data": {
      "text/plain": "<matplotlib.image.AxesImage at 0x1f975bd0>"
     },
     "execution_count": 25,
     "metadata": {},
     "output_type": "execute_result"
    },
    {
     "data": {
      "text/plain": "<Figure size 432x288 with 8 Axes>",
      "image/png": "[encoded data removed]"
     },
     "metadata": {
      "needs_background": "light"
     },
     "output_type": "display_data"
    }
   ],
   "source": [
    "fig, axs = plt.subplots(2, 4)\n",
    "axs[0, 0].imshow(reshape(digits_df.iloc[0]), cmap='gray_r')\n",
    "axs[0, 1].imshow(reshape(digits_df.iloc[100]), cmap='gray_r')\n",
    "axs[0, 2].imshow(reshape(digits_df.iloc[200]), cmap='gray_r')\n",
    "axs[0, 3].imshow(reshape(digits_df.iloc[300]), cmap='gray_r')\n",
    "\n",
    "axs[1, 0].imshow(reshape(digits_df.iloc[1000]), cmap='gray_r')\n",
    "axs[1, 1].imshow(reshape(digits_df.iloc[1100]), cmap='gray_r')\n",
    "axs[1, 2].imshow(reshape(digits_df.iloc[1200]), cmap='gray_r')\n",
    "axs[1, 3].imshow(reshape(digits_df.iloc[1300]), cmap='gray_r')"
   ],
   "metadata": {
    "collapsed": false,
    "pycharm": {
     "name": "#%%\n"
    }
   }
  },
  {
   "cell_type": "markdown",
   "source": [
    "## K Nearest Neighbors\n",
    "\n",
    "The k-nearest neighbors algorithm compares every unseen observation in the test set\n",
    "to all (or many, as some implementations constrain the search space) training\n",
    "observations to look for similar (or the \"nearest\") observations. We'll evaluate\n",
    "the performance of the algorithm classifying images to have a reference point."
   ],
   "metadata": {
    "collapsed": false
   }
  },
  {
   "cell_type": "code",
   "execution_count": 33,
   "outputs": [],
   "source": [
    "from sklearn.neighbors import KNeighborsClassifier\n",
    "from sklearn.model_selection import cross_val_score\n",
    "\n",
    "neighbors =  [5,10,15,40,50,100]\n",
    "model_scores = []\n",
    "for n in neighbors:\n",
    "    knn = KNeighborsClassifier(n_neighbors=n)\n",
    "    scores = cross_val_score(knn,\n",
    "                    digits_df,\n",
    "                    digits['target'],\n",
    "                    scoring='accuracy',\n",
    "                    cv = 4)\n",
    "    model_scores.append(np.mean(scores))"
   ],
   "metadata": {
    "collapsed": false,
    "pycharm": {
     "name": "#%%\n"
    }
   }
  },
  {
   "cell_type": "code",
   "execution_count": 50,
   "outputs": [
    {
     "data": {
      "text/plain": "Text(0, 0.5, 'Accuracy')"
     },
     "execution_count": 50,
     "metadata": {},
     "output_type": "execute_result"
    },
    {
     "data": {
      "text/plain": "<Figure size 432x288 with 1 Axes>",
      "image/png": "[encoded data removed]"
     },
     "metadata": {
      "needs_background": "light"
     },
     "output_type": "display_data"
    }
   ],
   "source": [
    "xlabels = list(map(str, neighbors))\n",
    "plt.plot(xlabels, model_scores, marker='o')\n",
    "plt.title('KNN Performance')\n",
    "plt.xlabel('N Neighbors')\n",
    "plt.ylabel('Accuracy')"
   ],
   "metadata": {
    "collapsed": false,
    "pycharm": {
     "name": "#%%\n"
    }
   }
  },
  {
   "cell_type": "markdown",
   "source": [
    "There are some drawbacks in applying KNN:\n",
    "* High memory usage\n",
    "* No model to debug or optimize"
   ],
   "metadata": {
    "collapsed": false,
    "pycharm": {
     "name": "#%% md\n"
    }
   }
  },
  {
   "cell_type": "markdown",
   "source": [
    "## Neural Networks\n",
    "\n",
    "### Single Hidden Layer\n",
    "\n",
    "We will start with a single hidden layer and a variety of nodes and then\n",
    "keep adding layers."
   ],
   "metadata": {
    "collapsed": false,
    "pycharm": {
     "name": "#%% md\n"
    }
   }
  },
  {
   "cell_type": "code",
   "execution_count": 2,
   "outputs": [],
   "source": [
    "from sklearn.model_selection import cross_validate\n",
    "from sklearn.neural_network import MLPClassifier"
   ],
   "metadata": {
    "collapsed": false,
    "pycharm": {
     "name": "#%%\n"
    }
   }
  },
  {
   "cell_type": "code",
   "execution_count": null,
   "outputs": [],
   "source": [
    "nodes = [8,16,24,32,64,128]\n",
    "nn_scores_testing = []\n",
    "nn_scores_train = []\n",
    "\n",
    "for n in nodes:\n",
    "    mlp = MLPClassifier(hidden_layer_sizes=(n,))\n",
    "    scores = cross_validate(mlp,\n",
    "                    digits_df,\n",
    "                    digits['target'],\n",
    "                    scoring='accuracy',\n",
    "                    return_train_score=True,\n",
    "                    cv = 4)\n",
    "    nn_scores_testing.append(np.mean(scores['test_score']))\n",
    "    nn_scores_train.append(np.mean(scores['train_score']))"
   ],
   "metadata": {
    "collapsed": false,
    "pycharm": {
     "name": "#%%\n"
    }
   }
  },
  {
   "cell_type": "code",
   "execution_count": 61,
   "outputs": [
    {
     "data": {
      "text/plain": "<Figure size 432x288 with 1 Axes>",
      "image/png": "[encoded data removed]"
     },
     "metadata": {
      "needs_background": "light"
     },
     "output_type": "display_data"
    }
   ],
   "source": [
    "x_nodes = list(map(str, nodes))\n",
    "plt.plot(x_nodes, nn_scores_testing, color='blue',marker='o', label='testing')\n",
    "plt.plot(x_nodes, nn_scores_train, color='green',marker='o', label='train')\n",
    "plt.legend(loc=\"lower right\")\n",
    "plt.title('NN Classication Accuracy')\n",
    "plt.xlabel('Nodes')\n",
    "plt.ylabel('Accuracy')\n",
    "plt.show()"
   ],
   "metadata": {
    "collapsed": false,
    "pycharm": {
     "name": "#%%\n"
    }
   }
  },
  {
   "cell_type": "markdown",
   "source": [
    "There seems to be a notable increment in the predictive power of the model\n",
    "from 8 to 16 nodes and then a marginal increment from there on. The best performing\n",
    "model had an accuracy of about 94.4% and that was achieved with 64 nodes. An accuracy\n",
    "of near 100% on the training set hints that the model may be overfitting."
   ],
   "metadata": {
    "collapsed": false,
    "pycharm": {
     "name": "#%% md\n"
    }
   }
  },
  {
   "cell_type": "markdown",
   "source": [
    "### Two Hidden Layers\n",
    "64 nodes yielded the best result in accuracy therefore we'll keep this parameter\n",
    "value for our two layer neural network."
   ],
   "metadata": {
    "collapsed": false,
    "pycharm": {
     "name": "#%% md\n"
    }
   }
  },
  {
   "cell_type": "code",
   "execution_count": 64,
   "outputs": [
    {
     "name": "stdout",
     "output_type": "stream",
     "text": [
      "Training dataset accuracy 1.0\n",
      "Testing dataset accuracy 0.9382232120762187\n"
     ]
    }
   ],
   "source": [
    "mlp = MLPClassifier(hidden_layer_sizes=(64,64))\n",
    "two_layer_scores = cross_validate(mlp,\n",
    "                    digits_df,\n",
    "                    digits['target'],\n",
    "                    scoring='accuracy',\n",
    "                    return_train_score=True,\n",
    "                    cv = 4)\n",
    "\n",
    "two_layer_train = np.mean(two_layer_scores['train_score'])\n",
    "two_layer_test = np.mean(two_layer_scores['test_score'])\n",
    "print('Training dataset accuracy {}'.format(two_layer_train))\n",
    "print('Testing dataset accuracy {}'.format(two_layer_test))"
   ],
   "metadata": {
    "collapsed": false,
    "pycharm": {
     "name": "#%%\n"
    }
   }
  },
  {
   "cell_type": "markdown",
   "source": [
    "The accuracy of the model after adding a second hidden layer stayed around 94%.\n",
    "We'll keep increasing the number of layers to see what happens.\n",
    "\n",
    "Using more hidden layers is known to increase the amount of overfitting\n",
    "that happens. To help us prevent overfitting, we'll increase the number of folds\n",
    "we use for k-fold cross validation to 8 while testing networks with 3 hidden layers."
   ],
   "metadata": {
    "collapsed": false,
    "pycharm": {
     "name": "#%% md\n"
    }
   }
  },
  {
   "cell_type": "markdown",
   "source": [
    "### Three Hidden Layers"
   ],
   "metadata": {
    "collapsed": false,
    "pycharm": {
     "name": "#%% md\n"
    }
   }
  },
  {
   "cell_type": "code",
   "execution_count": 3,
   "outputs": [
    {
     "name": "stderr",
     "output_type": "stream",
     "text": [
      "c:\\users\\pcemilio\\pycharmprojects\\dash\\venv\\lib\\site-packages\\sklearn\\neural_network\\_multilayer_perceptron.py:585: ConvergenceWarning: Stochastic Optimizer: Maximum iterations (200) reached and the optimization hasn't converged yet.\n",
      "  % self.max_iter, ConvergenceWarning)\n",
      "c:\\users\\pcemilio\\pycharmprojects\\dash\\venv\\lib\\site-packages\\sklearn\\neural_network\\_multilayer_perceptron.py:585: ConvergenceWarning: Stochastic Optimizer: Maximum iterations (200) reached and the optimization hasn't converged yet.\n",
      "  % self.max_iter, ConvergenceWarning)\n",
      "c:\\users\\pcemilio\\pycharmprojects\\dash\\venv\\lib\\site-packages\\sklearn\\neural_network\\_multilayer_perceptron.py:585: ConvergenceWarning: Stochastic Optimizer: Maximum iterations (200) reached and the optimization hasn't converged yet.\n",
      "  % self.max_iter, ConvergenceWarning)\n",
      "c:\\users\\pcemilio\\pycharmprojects\\dash\\venv\\lib\\site-packages\\sklearn\\neural_network\\_multilayer_perceptron.py:585: ConvergenceWarning: Stochastic Optimizer: Maximum iterations (200) reached and the optimization hasn't converged yet.\n",
      "  % self.max_iter, ConvergenceWarning)\n",
      "c:\\users\\pcemilio\\pycharmprojects\\dash\\venv\\lib\\site-packages\\sklearn\\neural_network\\_multilayer_perceptron.py:585: ConvergenceWarning: Stochastic Optimizer: Maximum iterations (200) reached and the optimization hasn't converged yet.\n",
      "  % self.max_iter, ConvergenceWarning)\n",
      "c:\\users\\pcemilio\\pycharmprojects\\dash\\venv\\lib\\site-packages\\sklearn\\neural_network\\_multilayer_perceptron.py:585: ConvergenceWarning: Stochastic Optimizer: Maximum iterations (200) reached and the optimization hasn't converged yet.\n",
      "  % self.max_iter, ConvergenceWarning)\n",
      "c:\\users\\pcemilio\\pycharmprojects\\dash\\venv\\lib\\site-packages\\sklearn\\neural_network\\_multilayer_perceptron.py:585: ConvergenceWarning: Stochastic Optimizer: Maximum iterations (200) reached and the optimization hasn't converged yet.\n",
      "  % self.max_iter, ConvergenceWarning)\n",
      "c:\\users\\pcemilio\\pycharmprojects\\dash\\venv\\lib\\site-packages\\sklearn\\neural_network\\_multilayer_perceptron.py:585: ConvergenceWarning: Stochastic Optimizer: Maximum iterations (200) reached and the optimization hasn't converged yet.\n",
      "  % self.max_iter, ConvergenceWarning)\n"
     ]
    },
    {
     "data": {
      "text/plain": "<Figure size 432x288 with 1 Axes>",
      "image/png": "[encoded data removed]"
     },
     "metadata": {
      "needs_background": "light"
     },
     "output_type": "display_data"
    }
   ],
   "source": [
    "nodes = [8,64,128]\n",
    "nn_scores_testing = []\n",
    "nn_scores_train = []\n",
    "\n",
    "for n in nodes:\n",
    "    mlp = MLPClassifier(hidden_layer_sizes=(n,n,n))\n",
    "    scores = cross_validate(mlp,\n",
    "                    digits_df,\n",
    "                    digits['target'],\n",
    "                    scoring='accuracy',\n",
    "                    return_train_score=True,\n",
    "                    cv = 8)\n",
    "    nn_scores_testing.append(np.mean(scores['test_score']))\n",
    "    nn_scores_train.append(np.mean(scores['train_score']))\n",
    "\n",
    "x_nodes = list(map(str, nodes))\n",
    "plt.plot(x_nodes, nn_scores_testing, color='blue',marker='o', label='testing')\n",
    "plt.plot(x_nodes, nn_scores_train, color='green',marker='o', label='train')\n",
    "plt.legend(loc=\"lower right\")\n",
    "plt.title('NN Classication Accuracy')\n",
    "plt.xlabel('Nodes')\n",
    "plt.ylabel('Accuracy')\n",
    "plt.show()"
   ],
   "metadata": {
    "collapsed": false,
    "pycharm": {
     "name": "#%%\n"
    }
   }
  },
  {
   "cell_type": "markdown",
   "source": [
    "## Conclusion\n",
    "Using 3 hidden layers improved our simple accuracy to 96%,\n",
    "even with 6-fold cross validation. This seems to be in line with the research\n",
    "literature out there about deep neural networks for computer vision.\n",
    "Having more layers and more neurons tends to improve the network's performance."
   ],
   "metadata": {
    "collapsed": false,
    "pycharm": {
     "name": "#%% md\n"
    }
   }
  }
 ],
 "metadata": {
  "kernelspec": {
   "display_name": "Python 3",
   "language": "python",
   "name": "python3"
  },
  "language_info": {
   "codemirror_mode": {
    "name": "ipython",
    "version": 2
   },
   "file_extension": ".py",
   "mimetype": "text/x-python",
   "name": "python",
   "nbconvert_exporter": "python",
   "pygments_lexer": "ipython2",
   "version": "2.7.6"
  }
 },
 "nbformat": 4,
 "nbformat_minor": 0
}